{
 "cells": [
  {
   "cell_type": "markdown",
   "metadata": {},
   "source": [
    "**Problem 1 (Coupons)**"
   ]
  },
  {
   "cell_type": "code",
   "execution_count": 1,
   "metadata": {},
   "outputs": [],
   "source": [
    "import numpy as np"
   ]
  },
  {
   "cell_type": "code",
   "execution_count": 2,
   "metadata": {},
   "outputs": [],
   "source": [
    "def expected_days(coupons):\n",
    "    answer = 0\n",
    "    while coupons > 0:\n",
    "        answer += (20 / (21-coupons))\n",
    "        coupons = coupons - 1\n",
    "    return(answer)"
   ]
  },
  {
   "cell_type": "code",
   "execution_count": 3,
   "metadata": {},
   "outputs": [
    {
     "name": "stdout",
     "output_type": "stream",
     "text": [
      "Expected Days until 19 coupons: 51.954793142873655\n",
      "Expected days until 20 coupons: 71.95479314287363\n"
     ]
    }
   ],
   "source": [
    "print(\"Expected Days until 19 coupons:\", expected_days(19))\n",
    "print(\"Expected days until 20 coupons:\", expected_days(20))\n",
    "difference = 60 - expected_days(19)"
   ]
  },
  {
   "cell_type": "markdown",
   "metadata": {},
   "source": [
    "**a) Expected number of distinct coupon types in 60 days**"
   ]
  },
  {
   "cell_type": "code",
   "execution_count": 4,
   "metadata": {},
   "outputs": [
    {
     "name": "stdout",
     "output_type": "stream",
     "text": [
      "19.402260342856316\n"
     ]
    }
   ],
   "source": [
    "print(19 + difference/20)"
   ]
  },
  {
   "cell_type": "markdown",
   "metadata": {},
   "source": [
    "**b) Let X equal the number of coupons collected until I have all 20 types? What is the expected value of X? What is the variance?**"
   ]
  },
  {
   "cell_type": "code",
   "execution_count": 5,
   "metadata": {},
   "outputs": [],
   "source": [
    "def variance(coupons):\n",
    "    total_coupons = coupons\n",
    "    var_sum = 0\n",
    "    while coupons > 1:\n",
    "        var_num = 20 * (coupons-1)\n",
    "        var_denom = (21-coupons) * (21-coupons)\n",
    "        var_sum += var_num/var_denom\n",
    "        coupons = coupons-1\n",
    "    return(var_sum)"
   ]
  },
  {
   "cell_type": "code",
   "execution_count": 6,
   "metadata": {},
   "outputs": [
    {
     "name": "stdout",
     "output_type": "stream",
     "text": [
      "Expected Value of X:  71.95479314287363\n"
     ]
    }
   ],
   "source": [
    "print(\"Expected Value of X: \", expected_days(20))"
   ]
  },
  {
   "cell_type": "code",
   "execution_count": 7,
   "metadata": {},
   "outputs": [
    {
     "name": "stdout",
     "output_type": "stream",
     "text": [
      "Variance of X:  566.5105044223358\n"
     ]
    }
   ],
   "source": [
    "print(\"Variance of X: \", variance(20))"
   ]
  },
  {
   "cell_type": "markdown",
   "metadata": {},
   "source": [
    "**Problem 2 (Simulation)**"
   ]
  },
  {
   "cell_type": "code",
   "execution_count": 8,
   "metadata": {},
   "outputs": [],
   "source": [
    "import numpy as np\n",
    "import matplotlib.pyplot as plt"
   ]
  },
  {
   "cell_type": "markdown",
   "metadata": {},
   "source": [
    "**a) Estimate E[N1] for 100, 1000, 10000 values**"
   ]
  },
  {
   "cell_type": "code",
   "execution_count": 9,
   "metadata": {},
   "outputs": [],
   "source": [
    "def simulation1(n):\n",
    "    results = []\n",
    "    for j in range(n):\n",
    "        total = 0\n",
    "        for i in range(1, 100):\n",
    "            x = np.random.uniform(0,1)\n",
    "            total+= x\n",
    "            if total >= 1:\n",
    "                results.append(i)\n",
    "                break\n",
    "                \n",
    "    return(np.mean(results))"
   ]
  },
  {
   "cell_type": "code",
   "execution_count": 10,
   "metadata": {},
   "outputs": [
    {
     "data": {
      "text/plain": [
       "(2.71, 2.69, 2.7192)"
      ]
     },
     "execution_count": 10,
     "metadata": {},
     "output_type": "execute_result"
    }
   ],
   "source": [
    "simulation1(100), simulation1(1000), simulation1(10000)"
   ]
  },
  {
   "cell_type": "markdown",
   "metadata": {},
   "source": [
    "**b) Estimate E[N2] for 100, 1000, 10000 values**"
   ]
  },
  {
   "cell_type": "code",
   "execution_count": 11,
   "metadata": {},
   "outputs": [],
   "source": [
    "def simulation2(n):\n",
    "    results = []\n",
    "    for j in range(n):\n",
    "        total = 0\n",
    "        for i in range(1, 100):\n",
    "            x = np.random.uniform(0,1)\n",
    "            total+= x\n",
    "            if total >= 2:\n",
    "                results.append(i)\n",
    "                break\n",
    "                \n",
    "    return(np.mean(results))"
   ]
  },
  {
   "cell_type": "code",
   "execution_count": 12,
   "metadata": {},
   "outputs": [
    {
     "data": {
      "text/plain": [
       "(4.76, 4.646, 4.6737)"
      ]
     },
     "execution_count": 12,
     "metadata": {},
     "output_type": "execute_result"
    }
   ],
   "source": [
    "simulation2(100), simulation2(1000), simulation2(10000)"
   ]
  },
  {
   "cell_type": "markdown",
   "metadata": {},
   "source": [
    "**Problem 3 (Exponential distribution)**"
   ]
  },
  {
   "cell_type": "markdown",
   "metadata": {},
   "source": [
    "See written problems."
   ]
  },
  {
   "cell_type": "markdown",
   "metadata": {},
   "source": [
    "**Problem 4 (Poisson distribution)**"
   ]
  },
  {
   "cell_type": "markdown",
   "metadata": {},
   "source": [
    "See written problems."
   ]
  },
  {
   "cell_type": "markdown",
   "metadata": {},
   "source": [
    "**Problem 5 (Taxi drivers)**"
   ]
  },
  {
   "cell_type": "markdown",
   "metadata": {},
   "source": [
    "**a) Find the amount of time needed to work to maximize expected net income**"
   ]
  },
  {
   "cell_type": "code",
   "execution_count": 13,
   "metadata": {},
   "outputs": [],
   "source": [
    "def taxi(t, trials, p, c):\n",
    "    rev = np.random.poisson(np.log(1+t), trials) * p\n",
    "    net_income = rev - c*t\n",
    "    return(net_income)"
   ]
  },
  {
   "cell_type": "code",
   "execution_count": 14,
   "metadata": {},
   "outputs": [],
   "source": [
    "values=[]\n",
    "for t in range(11):\n",
    "    values.append(taxi(t,10000, 12, 3))"
   ]
  },
  {
   "cell_type": "code",
   "execution_count": 15,
   "metadata": {},
   "outputs": [
    {
     "data": {
      "text/plain": [
       "<BarContainer object of 11 artists>"
      ]
     },
     "execution_count": 15,
     "metadata": {},
     "output_type": "execute_result"
    },
    {
     "data": {
      "image/png": "[encoded data removed]",
      "text/plain": [
       "<Figure size 432x288 with 1 Axes>"
      ]
     },
     "metadata": {
      "needs_background": "light"
     },
     "output_type": "display_data"
    }
   ],
   "source": [
    "means=[]\n",
    "hours=[]\n",
    "for i in range(len(values)):\n",
    "    means.append(np.mean(values[i]))\n",
    "    hours.append(i)\n",
    "plt.bar(hours, means)"
   ]
  },
  {
   "cell_type": "code",
   "execution_count": 16,
   "metadata": {},
   "outputs": [
    {
     "name": "stdout",
     "output_type": "stream",
     "text": [
      "Analyzing the histogram above, it is clear that the optimal working time equals 3 hours.\n"
     ]
    }
   ],
   "source": [
    "print(\"Analyzing the histogram above, it is clear that the optimal working time equals 3 hours.\")"
   ]
  },
  {
   "cell_type": "markdown",
   "metadata": {},
   "source": [
    "**b) Solve analytically**"
   ]
  },
  {
   "cell_type": "markdown",
   "metadata": {},
   "source": [
    "See hand-written work."
   ]
  }
 ],
 "metadata": {
  "kernelspec": {
   "display_name": "Python 3",
   "language": "python",
   "name": "python3"
  },
  "language_info": {
   "codemirror_mode": {
    "name": "ipython",
    "version": 3
   },
   "file_extension": ".py",
   "mimetype": "text/x-python",
   "name": "python",
   "nbconvert_exporter": "python",
   "pygments_lexer": "ipython3",
   "version": "3.7.3"
  }
 },
 "nbformat": 4,
 "nbformat_minor": 4
}
