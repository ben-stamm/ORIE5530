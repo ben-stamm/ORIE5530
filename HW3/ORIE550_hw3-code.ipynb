{
 "cells": [
  {
   "cell_type": "code",
   "execution_count": 4,
   "metadata": {},
   "outputs": [],
   "source": [
    "import numpy as np\n",
    "from matplotlib import pyplot as plt"
   ]
  },
  {
   "cell_type": "markdown",
   "metadata": {},
   "source": [
    "**3a)**"
   ]
  },
  {
   "cell_type": "code",
   "execution_count": 3,
   "metadata": {},
   "outputs": [],
   "source": [
    "marcov = [\n",
    "    [.4, .38, .22],\n",
    "    [.12, .7, .18],\n",
    "    [.2, .5, .3]\n",
    "]"
   ]
  },
  {
   "cell_type": "code",
   "execution_count": 7,
   "metadata": {},
   "outputs": [],
   "source": [
    "y = [1,2,3]"
   ]
  },
  {
   "cell_type": "code",
   "execution_count": 22,
   "metadata": {},
   "outputs": [],
   "source": [
    "def marcov_chain(number):\n",
    "    state = 0\n",
    "    states = []\n",
    "    for i in range(number):\n",
    "\n",
    "        u = np.random.uniform(0,1)\n",
    "\n",
    "        if state == 0 or state == 1:\n",
    "            if u <= .4:\n",
    "                state = 1\n",
    "            elif u > .4 and u<= .78:\n",
    "                state = 2\n",
    "            else:\n",
    "                state = 3\n",
    "            states.append(state)\n",
    "        elif state == 2:\n",
    "            if u <= .12:\n",
    "                state = 1\n",
    "            elif u > .12 and u<= .82:\n",
    "                state = 2\n",
    "            else:\n",
    "                state =3\n",
    "            states.append(state) \n",
    "        elif state == 3:\n",
    "            if u <= .2:\n",
    "                state = 1\n",
    "            elif u > .2 and u<= .7:\n",
    "                state = 2\n",
    "            else:\n",
    "                state = 3 \n",
    "            states.append(state)\n",
    "    return(states)"
   ]
  },
  {
   "cell_type": "code",
   "execution_count": 24,
   "metadata": {
    "scrolled": true
   },
   "outputs": [
    {
     "data": {
      "text/plain": [
       "[<matplotlib.lines.Line2D at 0x234a8e13d30>]"
      ]
     },
     "execution_count": 24,
     "metadata": {},
     "output_type": "execute_result"
    },
    {
     "data": {
      "image/png": "[encoded data removed]",
      "text/plain": [
       "<Figure size 432x288 with 1 Axes>"
      ]
     },
     "metadata": {
      "needs_background": "light"
     },
     "output_type": "display_data"
    }
   ],
   "source": [
    "plt.plot(range(100), marcov_chain(100), '.')"
   ]
  },
  {
   "cell_type": "markdown",
   "metadata": {},
   "source": [
    "**3b)**"
   ]
  },
  {
   "cell_type": "code",
   "execution_count": 34,
   "metadata": {},
   "outputs": [
    {
     "data": {
      "text/plain": [
       "2.028"
      ]
     },
     "execution_count": 34,
     "metadata": {},
     "output_type": "execute_result"
    }
   ],
   "source": [
    "def sum1(iterations):\n",
    "    sums = []\n",
    "    for i in range(iterations):\n",
    "        sums.append(np.sum(marcov_chain(1000)) / 1000)\n",
    "    return(sums)\n",
    "np.average(sum1(1))"
   ]
  },
  {
   "cell_type": "code",
   "execution_count": 48,
   "metadata": {},
   "outputs": [
    {
     "data": {
      "text/plain": [
       "41.8143233415104"
      ]
     },
     "execution_count": 48,
     "metadata": {},
     "output_type": "execute_result"
    }
   ],
   "source": [
    "def sum2(iterations):\n",
    "    betas = []\n",
    "    for i in range(iterations):\n",
    "        beta_val = 0\n",
    "        for k,j in enumerate(marcov_chain(1000)):\n",
    "            beta_val += np.power(0.9,k) * np.power(j,2)\n",
    "        betas.append(beta_val)\n",
    "    return(betas)\n",
    "np.average(sum2(1))"
   ]
  },
  {
   "cell_type": "markdown",
   "metadata": {},
   "source": [
    "**3c)**"
   ]
  },
  {
   "cell_type": "code",
   "execution_count": 49,
   "metadata": {},
   "outputs": [
    {
     "data": {
      "text/plain": [
       "2.0227429999999997"
      ]
     },
     "execution_count": 49,
     "metadata": {},
     "output_type": "execute_result"
    }
   ],
   "source": [
    "np.average(sum1(1000))"
   ]
  },
  {
   "cell_type": "code",
   "execution_count": 50,
   "metadata": {},
   "outputs": [
    {
     "data": {
      "text/plain": [
       "44.30354010109675"
      ]
     },
     "execution_count": 50,
     "metadata": {},
     "output_type": "execute_result"
    }
   ],
   "source": [
    "np.average(sum2(1000))"
   ]
  }
 ],
 "metadata": {
  "kernelspec": {
   "display_name": "Python 3",
   "language": "python",
   "name": "python3"
  },
  "language_info": {
   "codemirror_mode": {
    "name": "ipython",
    "version": 3
   },
   "file_extension": ".py",
   "mimetype": "text/x-python",
   "name": "python",
   "nbconvert_exporter": "python",
   "pygments_lexer": "ipython3",
   "version": "3.7.3"
  }
 },
 "nbformat": 4,
 "nbformat_minor": 2
}
