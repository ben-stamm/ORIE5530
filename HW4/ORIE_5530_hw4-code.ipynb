{
 "cells": [
  {
   "cell_type": "code",
   "execution_count": 2,
   "metadata": {},
   "outputs": [],
   "source": [
    "import numpy as np\n",
    "from matplotlib import pyplot as plt"
   ]
  },
  {
   "cell_type": "markdown",
   "metadata": {},
   "source": [
    "**Problem 3a**"
   ]
  },
  {
   "cell_type": "code",
   "execution_count": 3,
   "metadata": {},
   "outputs": [],
   "source": [
    "marcov = [\n",
    "    [0, .6, .4],\n",
    "    [.3, 0, .7],\n",
    "    [.85, .15, 0]\n",
    "]"
   ]
  },
  {
   "cell_type": "code",
   "execution_count": 4,
   "metadata": {},
   "outputs": [],
   "source": [
    "y = [1,2,3]"
   ]
  },
  {
   "cell_type": "code",
   "execution_count": 47,
   "metadata": {},
   "outputs": [],
   "source": [
    "def marcov_chain(number):\n",
    "    state = 3\n",
    "    states = []\n",
    "    \n",
    "    while len(states) < number:\n",
    "\n",
    "        if state == 1:\n",
    "            u = np.random.uniform(0,1)\n",
    "            ex = np.random.exponential(10)\n",
    "            \n",
    "            for i in range(int(ex)): #stay in state 1\n",
    "                if len(states) == number:\n",
    "                    return(states)\n",
    "                states.append(state)\n",
    "  \n",
    "            if u <= .6: #change state\n",
    "                state = 2\n",
    "            else:\n",
    "                state = 3\n",
    "\n",
    "        elif state == 2:\n",
    "            u = np.random.uniform(0,1)\n",
    "            ex = np.random.exponential(5)\n",
    "            \n",
    "            for i in range(int(ex)): #stay in state 2\n",
    "                if len(states) == number:\n",
    "                    return(states)\n",
    "                states.append(state)          \n",
    "            \n",
    "            if u <= .3: #change state\n",
    "                state = 1\n",
    "            else:\n",
    "                state = 3\n",
    "                \n",
    "\n",
    "        elif state == 3:\n",
    "            u = np.random.uniform(0,1)\n",
    "            ex = np.random.exponential(10/3)\n",
    "            \n",
    "            for i in range(int(ex)): #stay in state 3\n",
    "                if len(states) == number:\n",
    "                    return(states)\n",
    "                states.append(state)    \n",
    "                \n",
    "            if u <= .85: #change state\n",
    "                state = 1\n",
    "            else:\n",
    "                state = 2 \n",
    "                \n",
    "\n",
    "    return(states)"
   ]
  },
  {
   "cell_type": "code",
   "execution_count": 60,
   "metadata": {},
   "outputs": [],
   "source": [
    "times = marcov_chain(1000)"
   ]
  },
  {
   "cell_type": "code",
   "execution_count": 61,
   "metadata": {},
   "outputs": [
    {
     "data": {
      "text/plain": [
       "[<matplotlib.lines.Line2D at 0x1aff35f4780>]"
      ]
     },
     "execution_count": 61,
     "metadata": {},
     "output_type": "execute_result"
    },
    {
     "data": {
      "image/png": "[encoded data removed]",
      "text/plain": [
       "<Figure size 432x288 with 1 Axes>"
      ]
     },
     "metadata": {
      "needs_background": "light"
     },
     "output_type": "display_data"
    }
   ],
   "source": [
    "plt.plot(range(1000), times, '.')"
   ]
  },
  {
   "cell_type": "code",
   "execution_count": 62,
   "metadata": {},
   "outputs": [
    {
     "data": {
      "text/plain": [
       "(626, 205, 169)"
      ]
     },
     "execution_count": 62,
     "metadata": {},
     "output_type": "execute_result"
    }
   ],
   "source": [
    "times.count(1), times.count(2), times.count(3)"
   ]
  },
  {
   "cell_type": "markdown",
   "metadata": {},
   "source": [
    "**Problem 3b**"
   ]
  },
  {
   "cell_type": "code",
   "execution_count": 63,
   "metadata": {},
   "outputs": [
    {
     "name": "stdout",
     "output_type": "stream",
     "text": [
      "2.967\n"
     ]
    }
   ],
   "source": [
    "reward=0\n",
    "for i in times:\n",
    "    reward += i * i\n",
    "print(reward/len(times))"
   ]
  },
  {
   "cell_type": "code",
   "execution_count": null,
   "metadata": {},
   "outputs": [],
   "source": []
  }
 ],
 "metadata": {
  "kernelspec": {
   "display_name": "Python 3",
   "language": "python",
   "name": "python3"
  },
  "language_info": {
   "codemirror_mode": {
    "name": "ipython",
    "version": 3
   },
   "file_extension": ".py",
   "mimetype": "text/x-python",
   "name": "python",
   "nbconvert_exporter": "python",
   "pygments_lexer": "ipython3",
   "version": "3.7.3"
  }
 },
 "nbformat": 4,
 "nbformat_minor": 2
}
